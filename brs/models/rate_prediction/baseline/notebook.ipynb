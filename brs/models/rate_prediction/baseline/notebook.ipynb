{
 "cells": [
  {
   "cell_type": "code",
   "execution_count": 1,
   "id": "239bd377",
   "metadata": {},
   "outputs": [],
   "source": [
    "import os\n",
    "import sys\n",
    "module_path = os.path.abspath(os.path.join('..', '..', '..', '..'))\n",
    "sys.path.insert(0, module_path)"
   ]
  },
  {
   "cell_type": "markdown",
   "id": "b9641c68",
   "metadata": {},
   "source": [
    "### Подготовка\n",
    "1. Загрузим данные\n",
    "2. Поделим их на train и test"
   ]
  },
  {
   "cell_type": "code",
   "execution_count": 4,
   "id": "d87be456",
   "metadata": {},
   "outputs": [
    {
     "name": "stderr",
     "output_type": "stream",
     "text": [
      "d:\\z\\Conspects\\_Summer\\BRS\\brs\\ingestion\\load_local.py:42: DtypeWarning: Columns (3) have mixed types. Specify dtype option on import or set low_memory=False.\n",
      "  return pd.read_csv(dataset_path)\n"
     ]
    }
   ],
   "source": [
    "\n",
    "from brs.models.rate_prediction.baseline.model import BaselineRateModel\n",
    "from brs.ingestion import LoadLocalDataset\n",
    "\n",
    "# Подгружаем сырые данные\n",
    "lld = LoadLocalDataset()\n",
    "data_books = lld.load_dataset(\"books\")\n",
    "data_users = lld.load_dataset(\"users\")\n",
    "data_ratings = lld.load_dataset(\"ratings\")\n",
    "\n",
    "# Делим на train и test\n",
    "num_ratings = data_ratings.shape[0]\n",
    "split = round(num_ratings * 0.9)\n",
    "train, test = data_ratings[:split], data_ratings[split:]"
   ]
  },
  {
   "cell_type": "markdown",
   "id": "0840c2f4",
   "metadata": {},
   "source": [
    "### Pipeline/preprocess\n",
    "\n",
    "- Считаем среднюю оценку для каждой книги на train\n",
    "- Предсказываем каждому пользователю на test именно её"
   ]
  },
  {
   "cell_type": "code",
   "execution_count": 5,
   "id": "7f275f6e",
   "metadata": {},
   "outputs": [],
   "source": [
    "from brs.models.rate_prediction.baseline.pipeline import BaselinePipeline\n",
    "\n",
    "pipeline = BaselinePipeline()\n",
    "pipeline.fit(data_users, train, data_books)\n",
    "train = pipeline.transform(train)\n",
    "test = pipeline.transform(test)\n",
    "\n",
    "model = BaselineRateModel()\n",
    "model.fit(train)\n",
    "\n",
    "predictions = model.predict(test)\n"
   ]
  },
  {
   "cell_type": "markdown",
   "id": "3afd1aab",
   "metadata": {},
   "source": [
    "### Считаем качество наших предсказаний\n",
    "У нас три ключевых метрики\n",
    "- MAE\n",
    "- MSE\n",
    "- RMSE\n",
    "\n",
    "Зафиксируем их, как качество самой простой модели"
   ]
  },
  {
   "cell_type": "code",
   "execution_count": 6,
   "id": "92552eb7",
   "metadata": {},
   "outputs": [
    {
     "name": "stdout",
     "output_type": "stream",
     "text": [
      "MAE: 3.743918537609926\n",
      "RMSE: 4.384962666398486\n",
      "MSE: 19.227897585708522\n"
     ]
    }
   ],
   "source": [
    "from brs.metrics.regression_metrics import MAE, RMSE, MSE\n",
    "\n",
    "mae_score = MAE().estimate(predictions, test[\"Book-Rating\"])\n",
    "rmse_score = RMSE().estimate(predictions, test[\"Book-Rating\"])\n",
    "mse_score = MSE().estimate(predictions, test[\"Book-Rating\"])\n",
    "\n",
    "print(f\"MAE: {mae_score}\")\n",
    "print(f\"RMSE: {rmse_score}\")\n",
    "print(f\"MSE: {mse_score}\")"
   ]
  }
 ],
 "metadata": {
  "kernelspec": {
   "display_name": "Python (brs-env)",
   "language": "python",
   "name": "brs-env"
  },
  "language_info": {
   "codemirror_mode": {
    "name": "ipython",
    "version": 3
   },
   "file_extension": ".py",
   "mimetype": "text/x-python",
   "name": "python",
   "nbconvert_exporter": "python",
   "pygments_lexer": "ipython3",
   "version": "3.12.10"
  }
 },
 "nbformat": 4,
 "nbformat_minor": 5
}
